{
  "nbformat": 4,
  "nbformat_minor": 0,
  "metadata": {
    "colab": {
      "provenance": []
    },
    "kernelspec": {
      "name": "python3",
      "display_name": "Python 3"
    },
    "language_info": {
      "name": "python"
    }
  },
  "cells": [
    {
      "cell_type": "markdown",
      "source": [
        "# **1. Perkenalan Dataset**\n"
      ],
      "metadata": {
        "id": "kZLRMFl0JyyQ"
      }
    },
    {
      "cell_type": "markdown",
      "source": [
        "Tahap pertama, Anda harus mencari dan menggunakan dataset **tanpa label** dengan ketentuan sebagai berikut:\n",
        "\n",
        "1. **Sumber Dataset**:  \n",
        "   Dataset dapat diperoleh dari berbagai sumber, seperti public repositories (*Kaggle*, *UCI ML Repository*, *Open Data*) atau data primer yang Anda kumpulkan sendiri.\n",
        "   \n",
        "2. **Ketentuan Dataset**:\n",
        "   - **Tanpa label**: Dataset tidak boleh memiliki label atau kelas.\n",
        "   - **Jumlah Baris**: Minimal 1000 baris untuk memastikan dataset cukup besar untuk analisis yang bermakna.\n",
        "   - **Tipe Data**: Harus mengandung data **kategorikal** dan **numerikal**.\n",
        "     - *Kategorikal*: Misalnya jenis kelamin, kategori produk.\n",
        "     - *Numerikal*: Misalnya usia, pendapatan, harga.\n",
        "\n",
        "3. **Pembatasan**:  \n",
        "   Dataset yang sudah digunakan dalam latihan clustering (seperti customer segmentation) tidak boleh digunakan."
      ],
      "metadata": {
        "id": "hssSDn-5n3HR"
      }
    },
    {
      "cell_type": "markdown",
      "source": [
        "# **2. Import Library**"
      ],
      "metadata": {
        "id": "fKADPWcFKlj3"
      }
    },
    {
      "cell_type": "markdown",
      "source": [
        "Pada tahap ini, Anda perlu mengimpor beberapa pustaka (library) Python yang dibutuhkan untuk analisis data dan pembangunan model machine learning."
      ],
      "metadata": {
        "id": "LgA3ERnVn84N"
      }
    },
    {
      "cell_type": "code",
      "source": [
        "# Importing necessary libraries for data manipulation, machine learning, and visualization\n",
        "import pandas as pd\n",
        "import numpy as np\n",
        "from sklearn.cluster import KMeans  # For clustering model\n",
        "from sklearn.preprocessing import StandardScaler, LabelEncoder  # For data preprocessing\n",
        "from sklearn.feature_selection import SelectKBest, f_classif  # For feature selection\n",
        "import matplotlib.pyplot as plt  # For data visualization\n",
        "import seaborn as sns  # For statistical data visualization\n"
      ],
      "metadata": {
        "id": "BlmvjLY9M4Yj"
      },
      "execution_count": 2,
      "outputs": []
    },
    {
      "cell_type": "markdown",
      "source": [
        "# **3. Memuat Dataset**"
      ],
      "metadata": {
        "id": "f3YIEnAFKrKL"
      }
    },
    {
      "cell_type": "markdown",
      "source": [
        "Pada tahap ini, Anda perlu memuat dataset ke dalam notebook. Jika dataset dalam format CSV, Anda bisa menggunakan pustaka pandas untuk membacanya. Pastikan untuk mengecek beberapa baris awal dataset untuk memahami strukturnya dan memastikan data telah dimuat dengan benar.\n",
        "\n",
        "Jika dataset berada di Google Drive, pastikan Anda menghubungkan Google Drive ke Colab terlebih dahulu. Setelah dataset berhasil dimuat, langkah berikutnya adalah memeriksa kesesuaian data dan siap untuk dianalisis lebih lanjut."
      ],
      "metadata": {
        "id": "Ey3ItwTen_7E"
      }
    },
    {
      "cell_type": "code",
      "source": [
        "# Type your code here\n",
        "df = pd.read_csv('/garisKemiskinan.csv')  # Replace with actual dataset path\n",
        "print(df.head())  # Display the first few rows of the dataset\n"
      ],
      "metadata": {
        "id": "GHCGNTyrM5fS",
        "colab": {
          "base_uri": "https://localhost:8080/"
        },
        "outputId": "1cd040d0-c1d9-47ce-c1ff-7f41176b4f7a"
      },
      "execution_count": 4,
      "outputs": [
        {
          "output_type": "stream",
          "name": "stdout",
          "text": [
            "  provinsi    jenis     daerah  tahun    periode        gk\n",
            "0     ACEH  MAKANAN  PERKOTAAN   2015      MARET  293697.0\n",
            "1     ACEH  MAKANAN  PERKOTAAN   2015  SEPTEMBER  302128.0\n",
            "2     ACEH  MAKANAN  PERKOTAAN   2016      MARET  306243.0\n",
            "3     ACEH  MAKANAN  PERKOTAAN   2016  SEPTEMBER  319768.0\n",
            "4     ACEH  MAKANAN  PERDESAAN   2015      MARET  297479.0\n"
          ]
        }
      ]
    },
    {
      "cell_type": "markdown",
      "source": [
        "a. Memahami Struktur Data"
      ],
      "metadata": {
        "id": "bgZkbJLpK9UR"
      }
    },
    {
      "cell_type": "code",
      "source": [
        "df.info()  # Menampilkan informasi tentang jumlah baris, kolom, dan tipe data\n",
        "df.describe()  # Menampilkan statistik deskriptif untuk kolom numerikal\n"
      ],
      "metadata": {
        "id": "dKeejtvxM6X1",
        "colab": {
          "base_uri": "https://localhost:8080/",
          "height": 526
        },
        "outputId": "971ee1f1-15a6-4cb2-9ddc-51570dd4f924"
      },
      "execution_count": 5,
      "outputs": [
        {
          "output_type": "stream",
          "name": "stdout",
          "text": [
            "<class 'pandas.core.frame.DataFrame'>\n",
            "RangeIndex: 5460 entries, 0 to 5459\n",
            "Data columns (total 6 columns):\n",
            " #   Column    Non-Null Count  Dtype  \n",
            "---  ------    --------------  -----  \n",
            " 0   provinsi  5460 non-null   object \n",
            " 1   jenis     5460 non-null   object \n",
            " 2   daerah    5460 non-null   object \n",
            " 3   tahun     5460 non-null   int64  \n",
            " 4   periode   5460 non-null   object \n",
            " 5   gk        5261 non-null   float64\n",
            "dtypes: float64(1), int64(1), object(4)\n",
            "memory usage: 256.1+ KB\n"
          ]
        },
        {
          "output_type": "execute_result",
          "data": {
            "text/plain": [
              "             tahun             gk\n",
              "count  5460.000000    5261.000000\n",
              "mean   2018.115385  303904.185516\n",
              "std       2.577159  158176.024903\n",
              "min    2013.000000   48561.000000\n",
              "25%    2016.000000  144674.000000\n",
              "50%    2018.000000  313294.000000\n",
              "75%    2020.000000  410188.000000\n",
              "max    2022.000000  872843.000000"
            ],
            "text/html": [
              "\n",
              "  <div id=\"df-b2b73d3e-f663-4789-89a2-332bcbfb722e\" class=\"colab-df-container\">\n",
              "    <div>\n",
              "<style scoped>\n",
              "    .dataframe tbody tr th:only-of-type {\n",
              "        vertical-align: middle;\n",
              "    }\n",
              "\n",
              "    .dataframe tbody tr th {\n",
              "        vertical-align: top;\n",
              "    }\n",
              "\n",
              "    .dataframe thead th {\n",
              "        text-align: right;\n",
              "    }\n",
              "</style>\n",
              "<table border=\"1\" class=\"dataframe\">\n",
              "  <thead>\n",
              "    <tr style=\"text-align: right;\">\n",
              "      <th></th>\n",
              "      <th>tahun</th>\n",
              "      <th>gk</th>\n",
              "    </tr>\n",
              "  </thead>\n",
              "  <tbody>\n",
              "    <tr>\n",
              "      <th>count</th>\n",
              "      <td>5460.000000</td>\n",
              "      <td>5261.000000</td>\n",
              "    </tr>\n",
              "    <tr>\n",
              "      <th>mean</th>\n",
              "      <td>2018.115385</td>\n",
              "      <td>303904.185516</td>\n",
              "    </tr>\n",
              "    <tr>\n",
              "      <th>std</th>\n",
              "      <td>2.577159</td>\n",
              "      <td>158176.024903</td>\n",
              "    </tr>\n",
              "    <tr>\n",
              "      <th>min</th>\n",
              "      <td>2013.000000</td>\n",
              "      <td>48561.000000</td>\n",
              "    </tr>\n",
              "    <tr>\n",
              "      <th>25%</th>\n",
              "      <td>2016.000000</td>\n",
              "      <td>144674.000000</td>\n",
              "    </tr>\n",
              "    <tr>\n",
              "      <th>50%</th>\n",
              "      <td>2018.000000</td>\n",
              "      <td>313294.000000</td>\n",
              "    </tr>\n",
              "    <tr>\n",
              "      <th>75%</th>\n",
              "      <td>2020.000000</td>\n",
              "      <td>410188.000000</td>\n",
              "    </tr>\n",
              "    <tr>\n",
              "      <th>max</th>\n",
              "      <td>2022.000000</td>\n",
              "      <td>872843.000000</td>\n",
              "    </tr>\n",
              "  </tbody>\n",
              "</table>\n",
              "</div>\n",
              "    <div class=\"colab-df-buttons\">\n",
              "\n",
              "  <div class=\"colab-df-container\">\n",
              "    <button class=\"colab-df-convert\" onclick=\"convertToInteractive('df-b2b73d3e-f663-4789-89a2-332bcbfb722e')\"\n",
              "            title=\"Convert this dataframe to an interactive table.\"\n",
              "            style=\"display:none;\">\n",
              "\n",
              "  <svg xmlns=\"http://www.w3.org/2000/svg\" height=\"24px\" viewBox=\"0 -960 960 960\">\n",
              "    <path d=\"M120-120v-720h720v720H120Zm60-500h600v-160H180v160Zm220 220h160v-160H400v160Zm0 220h160v-160H400v160ZM180-400h160v-160H180v160Zm440 0h160v-160H620v160ZM180-180h160v-160H180v160Zm440 0h160v-160H620v160Z\"/>\n",
              "  </svg>\n",
              "    </button>\n",
              "\n",
              "  <style>\n",
              "    .colab-df-container {\n",
              "      display:flex;\n",
              "      gap: 12px;\n",
              "    }\n",
              "\n",
              "    .colab-df-convert {\n",
              "      background-color: #E8F0FE;\n",
              "      border: none;\n",
              "      border-radius: 50%;\n",
              "      cursor: pointer;\n",
              "      display: none;\n",
              "      fill: #1967D2;\n",
              "      height: 32px;\n",
              "      padding: 0 0 0 0;\n",
              "      width: 32px;\n",
              "    }\n",
              "\n",
              "    .colab-df-convert:hover {\n",
              "      background-color: #E2EBFA;\n",
              "      box-shadow: 0px 1px 2px rgba(60, 64, 67, 0.3), 0px 1px 3px 1px rgba(60, 64, 67, 0.15);\n",
              "      fill: #174EA6;\n",
              "    }\n",
              "\n",
              "    .colab-df-buttons div {\n",
              "      margin-bottom: 4px;\n",
              "    }\n",
              "\n",
              "    [theme=dark] .colab-df-convert {\n",
              "      background-color: #3B4455;\n",
              "      fill: #D2E3FC;\n",
              "    }\n",
              "\n",
              "    [theme=dark] .colab-df-convert:hover {\n",
              "      background-color: #434B5C;\n",
              "      box-shadow: 0px 1px 3px 1px rgba(0, 0, 0, 0.15);\n",
              "      filter: drop-shadow(0px 1px 2px rgba(0, 0, 0, 0.3));\n",
              "      fill: #FFFFFF;\n",
              "    }\n",
              "  </style>\n",
              "\n",
              "    <script>\n",
              "      const buttonEl =\n",
              "        document.querySelector('#df-b2b73d3e-f663-4789-89a2-332bcbfb722e button.colab-df-convert');\n",
              "      buttonEl.style.display =\n",
              "        google.colab.kernel.accessAllowed ? 'block' : 'none';\n",
              "\n",
              "      async function convertToInteractive(key) {\n",
              "        const element = document.querySelector('#df-b2b73d3e-f663-4789-89a2-332bcbfb722e');\n",
              "        const dataTable =\n",
              "          await google.colab.kernel.invokeFunction('convertToInteractive',\n",
              "                                                    [key], {});\n",
              "        if (!dataTable) return;\n",
              "\n",
              "        const docLinkHtml = 'Like what you see? Visit the ' +\n",
              "          '<a target=\"_blank\" href=https://colab.research.google.com/notebooks/data_table.ipynb>data table notebook</a>'\n",
              "          + ' to learn more about interactive tables.';\n",
              "        element.innerHTML = '';\n",
              "        dataTable['output_type'] = 'display_data';\n",
              "        await google.colab.output.renderOutput(dataTable, element);\n",
              "        const docLink = document.createElement('div');\n",
              "        docLink.innerHTML = docLinkHtml;\n",
              "        element.appendChild(docLink);\n",
              "      }\n",
              "    </script>\n",
              "  </div>\n",
              "\n",
              "\n",
              "<div id=\"df-120e432e-6a80-42cb-8f42-99a12d7e4b82\">\n",
              "  <button class=\"colab-df-quickchart\" onclick=\"quickchart('df-120e432e-6a80-42cb-8f42-99a12d7e4b82')\"\n",
              "            title=\"Suggest charts\"\n",
              "            style=\"display:none;\">\n",
              "\n",
              "<svg xmlns=\"http://www.w3.org/2000/svg\" height=\"24px\"viewBox=\"0 0 24 24\"\n",
              "     width=\"24px\">\n",
              "    <g>\n",
              "        <path d=\"M19 3H5c-1.1 0-2 .9-2 2v14c0 1.1.9 2 2 2h14c1.1 0 2-.9 2-2V5c0-1.1-.9-2-2-2zM9 17H7v-7h2v7zm4 0h-2V7h2v10zm4 0h-2v-4h2v4z\"/>\n",
              "    </g>\n",
              "</svg>\n",
              "  </button>\n",
              "\n",
              "<style>\n",
              "  .colab-df-quickchart {\n",
              "      --bg-color: #E8F0FE;\n",
              "      --fill-color: #1967D2;\n",
              "      --hover-bg-color: #E2EBFA;\n",
              "      --hover-fill-color: #174EA6;\n",
              "      --disabled-fill-color: #AAA;\n",
              "      --disabled-bg-color: #DDD;\n",
              "  }\n",
              "\n",
              "  [theme=dark] .colab-df-quickchart {\n",
              "      --bg-color: #3B4455;\n",
              "      --fill-color: #D2E3FC;\n",
              "      --hover-bg-color: #434B5C;\n",
              "      --hover-fill-color: #FFFFFF;\n",
              "      --disabled-bg-color: #3B4455;\n",
              "      --disabled-fill-color: #666;\n",
              "  }\n",
              "\n",
              "  .colab-df-quickchart {\n",
              "    background-color: var(--bg-color);\n",
              "    border: none;\n",
              "    border-radius: 50%;\n",
              "    cursor: pointer;\n",
              "    display: none;\n",
              "    fill: var(--fill-color);\n",
              "    height: 32px;\n",
              "    padding: 0;\n",
              "    width: 32px;\n",
              "  }\n",
              "\n",
              "  .colab-df-quickchart:hover {\n",
              "    background-color: var(--hover-bg-color);\n",
              "    box-shadow: 0 1px 2px rgba(60, 64, 67, 0.3), 0 1px 3px 1px rgba(60, 64, 67, 0.15);\n",
              "    fill: var(--button-hover-fill-color);\n",
              "  }\n",
              "\n",
              "  .colab-df-quickchart-complete:disabled,\n",
              "  .colab-df-quickchart-complete:disabled:hover {\n",
              "    background-color: var(--disabled-bg-color);\n",
              "    fill: var(--disabled-fill-color);\n",
              "    box-shadow: none;\n",
              "  }\n",
              "\n",
              "  .colab-df-spinner {\n",
              "    border: 2px solid var(--fill-color);\n",
              "    border-color: transparent;\n",
              "    border-bottom-color: var(--fill-color);\n",
              "    animation:\n",
              "      spin 1s steps(1) infinite;\n",
              "  }\n",
              "\n",
              "  @keyframes spin {\n",
              "    0% {\n",
              "      border-color: transparent;\n",
              "      border-bottom-color: var(--fill-color);\n",
              "      border-left-color: var(--fill-color);\n",
              "    }\n",
              "    20% {\n",
              "      border-color: transparent;\n",
              "      border-left-color: var(--fill-color);\n",
              "      border-top-color: var(--fill-color);\n",
              "    }\n",
              "    30% {\n",
              "      border-color: transparent;\n",
              "      border-left-color: var(--fill-color);\n",
              "      border-top-color: var(--fill-color);\n",
              "      border-right-color: var(--fill-color);\n",
              "    }\n",
              "    40% {\n",
              "      border-color: transparent;\n",
              "      border-right-color: var(--fill-color);\n",
              "      border-top-color: var(--fill-color);\n",
              "    }\n",
              "    60% {\n",
              "      border-color: transparent;\n",
              "      border-right-color: var(--fill-color);\n",
              "    }\n",
              "    80% {\n",
              "      border-color: transparent;\n",
              "      border-right-color: var(--fill-color);\n",
              "      border-bottom-color: var(--fill-color);\n",
              "    }\n",
              "    90% {\n",
              "      border-color: transparent;\n",
              "      border-bottom-color: var(--fill-color);\n",
              "    }\n",
              "  }\n",
              "</style>\n",
              "\n",
              "  <script>\n",
              "    async function quickchart(key) {\n",
              "      const quickchartButtonEl =\n",
              "        document.querySelector('#' + key + ' button');\n",
              "      quickchartButtonEl.disabled = true;  // To prevent multiple clicks.\n",
              "      quickchartButtonEl.classList.add('colab-df-spinner');\n",
              "      try {\n",
              "        const charts = await google.colab.kernel.invokeFunction(\n",
              "            'suggestCharts', [key], {});\n",
              "      } catch (error) {\n",
              "        console.error('Error during call to suggestCharts:', error);\n",
              "      }\n",
              "      quickchartButtonEl.classList.remove('colab-df-spinner');\n",
              "      quickchartButtonEl.classList.add('colab-df-quickchart-complete');\n",
              "    }\n",
              "    (() => {\n",
              "      let quickchartButtonEl =\n",
              "        document.querySelector('#df-120e432e-6a80-42cb-8f42-99a12d7e4b82 button');\n",
              "      quickchartButtonEl.style.display =\n",
              "        google.colab.kernel.accessAllowed ? 'block' : 'none';\n",
              "    })();\n",
              "  </script>\n",
              "</div>\n",
              "\n",
              "    </div>\n",
              "  </div>\n"
            ],
            "application/vnd.google.colaboratory.intrinsic+json": {
              "type": "dataframe",
              "summary": "{\n  \"name\": \"df\",\n  \"rows\": 8,\n  \"fields\": [\n    {\n      \"column\": \"tahun\",\n      \"properties\": {\n        \"dtype\": \"number\",\n        \"std\": 1495.4821170694877,\n        \"min\": 2.5771590913098983,\n        \"max\": 5460.0,\n        \"num_unique_values\": 8,\n        \"samples\": [\n          2018.1153846153845,\n          2018.0,\n          5460.0\n        ],\n        \"semantic_type\": \"\",\n        \"description\": \"\"\n      }\n    },\n    {\n      \"column\": \"gk\",\n      \"properties\": {\n        \"dtype\": \"number\",\n        \"std\": 275747.2103670456,\n        \"min\": 5261.0,\n        \"max\": 872843.0,\n        \"num_unique_values\": 8,\n        \"samples\": [\n          303904.1855160616,\n          313294.0,\n          5261.0\n        ],\n        \"semantic_type\": \"\",\n        \"description\": \"\"\n      }\n    }\n  ]\n}"
            }
          },
          "metadata": {},
          "execution_count": 5
        }
      ]
    },
    {
      "cell_type": "markdown",
      "source": [
        "b. Menangani Data yang Hilang (Missing Values)"
      ],
      "metadata": {
        "id": "nDUYb7XknzGY"
      }
    },
    {
      "cell_type": "code",
      "source": [
        "# Memeriksa jumlah nilai yang hilang di setiap kolom\n",
        "df.isnull().sum()\n",
        "\n",
        "# Mengisi missing values pada kolom 'gk' dengan rata-rata\n",
        "df['gk'].fillna(df['gk'].mean(), inplace=True)\n",
        "\n",
        "# Atau bisa menghapus baris dengan missing values\n",
        "df.dropna(inplace=True)\n"
      ],
      "metadata": {
        "colab": {
          "base_uri": "https://localhost:8080/"
        },
        "id": "I6Nbl_Swn2Jj",
        "outputId": "e046ae02-3713-4c18-995e-98f3af7fff52"
      },
      "execution_count": 7,
      "outputs": [
        {
          "output_type": "stream",
          "name": "stderr",
          "text": [
            "<ipython-input-7-65981259d8a2>:5: FutureWarning: A value is trying to be set on a copy of a DataFrame or Series through chained assignment using an inplace method.\n",
            "The behavior will change in pandas 3.0. This inplace method will never work because the intermediate object on which we are setting values always behaves as a copy.\n",
            "\n",
            "For example, when doing 'df[col].method(value, inplace=True)', try using 'df.method({col: value}, inplace=True)' or df[col] = df[col].method(value) instead, to perform the operation inplace on the original object.\n",
            "\n",
            "\n",
            "  df['gk'].fillna(df['gk'].mean(), inplace=True)\n"
          ]
        }
      ]
    },
    {
      "cell_type": "markdown",
      "source": [
        "c. Visualisasi Data"
      ],
      "metadata": {
        "id": "pr2YYRxan6Rq"
      }
    },
    {
      "cell_type": "code",
      "source": [
        "# Visualisasi distribusi kolom 'gk' (numerikal) dengan histogram\n",
        "sns.histplot(df['gk'])\n",
        "plt.title(\"Distribusi 'gk'\")\n",
        "plt.xlabel(\"gk\")\n",
        "plt.ylabel(\"Frekuensi\")\n",
        "plt.show()\n",
        "\n",
        "# Visualisasi hubungan antara kolom kategorikal ('provinsi') dan kolom numerikal ('gk') menggunakan barplot\n",
        "sns.barplot(x='provinsi', y='gk', data=df)\n",
        "plt.title(\"Relasi antara 'provinsi' dan 'gk'\")\n",
        "plt.xlabel(\"Provinsi\")\n",
        "plt.ylabel(\"gk\")\n",
        "plt.show()\n"
      ],
      "metadata": {
        "colab": {
          "base_uri": "https://localhost:8080/",
          "height": 927
        },
        "id": "m-gXvZhen7XJ",
        "outputId": "a208ec7f-fb52-4bad-a7cc-fc1bf865346d"
      },
      "execution_count": 8,
      "outputs": [
        {
          "output_type": "display_data",
          "data": {
            "text/plain": [
              "<Figure size 640x480 with 1 Axes>"
            ],
            "image/png": "[encoded data removed]"
          },
          "metadata": {}
        },
        {
          "output_type": "display_data",
          "data": {
            "text/plain": [
              "<Figure size 640x480 with 1 Axes>"
            ],
            "image/png": "[encoded data removed]"
          },
          "metadata": {}
        }
      ]
    },
    {
      "cell_type": "markdown",
      "source": [
        "# **5. Data Preprocessing**"
      ],
      "metadata": {
        "id": "cpgHfgnSK3ip"
      }
    },
    {
      "cell_type": "markdown",
      "source": [
        "a. Encoding Data Kategorikal"
      ],
      "metadata": {
        "id": "2yXUR29NkYvh"
      }
    },
    {
      "cell_type": "code",
      "source": [
        "# Menggunakan LabelEncoder untuk mengonversi kolom kategorikal menjadi numerik\n",
        "label_encoder = LabelEncoder()\n",
        "\n",
        "# Encoding kolom-kolom kategorikal yang ada di dataset\n",
        "df['provinsi'] = label_encoder.fit_transform(df['provinsi'])\n",
        "df['jenis'] = label_encoder.fit_transform(df['jenis'])\n",
        "df['daerah'] = label_encoder.fit_transform(df['daerah'])\n",
        "df['periode'] = label_encoder.fit_transform(df['periode'])\n",
        "\n",
        "# Menampilkan hasil setelah encoding untuk memverifikasi\n",
        "print(df.head())  # Menampilkan beberapa baris pertama setelah encoding\n"
      ],
      "metadata": {
        "id": "WzBGjcbQM7N8",
        "colab": {
          "base_uri": "https://localhost:8080/"
        },
        "outputId": "8f8aadc5-7065-43ff-9028-e7526fd0827b"
      },
      "execution_count": 9,
      "outputs": [
        {
          "output_type": "stream",
          "name": "stdout",
          "text": [
            "   provinsi  jenis  daerah  tahun  periode        gk\n",
            "0         0      0       2   2015        0  293697.0\n",
            "1         0      0       2   2015        1  302128.0\n",
            "2         0      0       2   2016        0  306243.0\n",
            "3         0      0       2   2016        1  319768.0\n",
            "4         0      0       0   2015        0  297479.0\n"
          ]
        }
      ]
    },
    {
      "cell_type": "markdown",
      "source": [
        "b. Normalisasi atau Standarisasi Fitur"
      ],
      "metadata": {
        "id": "vBA87HQpkbqX"
      }
    },
    {
      "cell_type": "code",
      "source": [
        "# Melakukan standarisasi pada kolom numerikal 'gk'\n",
        "scaler = StandardScaler()\n",
        "df[['gk']] = scaler.fit_transform(df[['gk']])  # Melakukan standardisasi kolom 'gk'\n",
        "\n",
        "# Memeriksa hasil setelah standarisasi\n",
        "print(df.head())  # Memastikan kolom 'gk' telah distandarisasi\n"
      ],
      "metadata": {
        "colab": {
          "base_uri": "https://localhost:8080/"
        },
        "id": "7U9wROyzkeiF",
        "outputId": "c55bc61f-df64-4441-ffe6-250f5fabbd4e"
      },
      "execution_count": 10,
      "outputs": [
        {
          "output_type": "stream",
          "name": "stdout",
          "text": [
            "   provinsi  jenis  daerah  tahun  periode        gk\n",
            "0         0      0       2   2015        0 -0.065746\n",
            "1         0      0       2   2015        1 -0.011441\n",
            "2         0      0       2   2016        0  0.015065\n",
            "3         0      0       2   2016        1  0.102181\n",
            "4         0      0       0   2015        0 -0.041386\n"
          ]
        }
      ]
    },
    {
      "cell_type": "markdown",
      "source": [
        "c. Normalisasi atau Standarisasi Fitur"
      ],
      "metadata": {
        "id": "YKcboFkHkh5Y"
      }
    },
    {
      "cell_type": "markdown",
      "source": [
        "# **6. Pembangunan Model Clustering**"
      ],
      "metadata": {
        "id": "Fkd_QHXWMBDr"
      }
    },
    {
      "cell_type": "markdown",
      "source": [
        "## **a. Gunakan KMeans untuk clustering data.**"
      ],
      "metadata": {
        "id": "dFULoF2Tk8Lc"
      }
    },
    {
      "cell_type": "code",
      "source": [
        "# Menentukan jumlah cluster\n",
        "kmeans = KMeans(n_clusters=3, random_state=42)  # Menggunakan 3 cluster sebagai contoh\n",
        "\n",
        "# Latih model KMeans\n",
        "kmeans.fit(df[['gk']])  # Melatih model clustering menggunakan kolom 'gk' sebagai fitur\n",
        "df['Cluster'] = kmeans.labels_  # Menambahkan hasil cluster ke dalam DataFrame\n",
        "\n",
        "# Menampilkan hasil clustering pada dataset\n",
        "print(df.head())  # Memeriksa hasil label cluster yang telah ditambahkan\n"
      ],
      "metadata": {
        "id": "hgYvwWOzM93L",
        "colab": {
          "base_uri": "https://localhost:8080/"
        },
        "outputId": "587ce2b1-3917-4c95-e070-e4ff5cb41c6d"
      },
      "execution_count": 11,
      "outputs": [
        {
          "output_type": "stream",
          "name": "stdout",
          "text": [
            "   provinsi  jenis  daerah  tahun  periode        gk  Cluster\n",
            "0         0      0       2   2015        0 -0.065746        0\n",
            "1         0      0       2   2015        1 -0.011441        0\n",
            "2         0      0       2   2016        0  0.015065        0\n",
            "3         0      0       2   2016        1  0.102181        0\n",
            "4         0      0       0   2015        0 -0.041386        0\n"
          ]
        }
      ]
    },
    {
      "cell_type": "markdown",
      "source": [
        "## **b. Evaluasi Model Clustering**"
      ],
      "metadata": {
        "id": "zsGVwzPKMEvn"
      }
    },
    {
      "cell_type": "markdown",
      "source": [
        "b. Evaluasi Model Clustering\n",
        "Elbow Method untuk Menentukan Jumlah Cluster Optimal"
      ],
      "metadata": {
        "id": "qk63ew39MeBf"
      }
    },
    {
      "cell_type": "markdown",
      "source": [
        "Elbow Method"
      ],
      "metadata": {
        "id": "31UEVrtfpUlp"
      }
    },
    {
      "cell_type": "code",
      "source": [
        "# Elbow Method untuk menentukan jumlah cluster optimal\n",
        "inertia = []  # List untuk menyimpan nilai inertia (sum of squared distances)\n",
        "for k in range(1, 11):  # Mencoba jumlah cluster dari 1 hingga 10\n",
        "    kmeans = KMeans(n_clusters=k, random_state=42)\n",
        "    kmeans.fit(df[['gk']])  # Melatih model\n",
        "    inertia.append(kmeans.inertia_)  # Menyimpan nilai inertia\n",
        "\n",
        "# Menampilkan hasil Elbow Method\n",
        "plt.plot(range(1, 11), inertia)\n",
        "plt.title('Elbow Method')\n",
        "plt.xlabel('Jumlah Cluster')\n",
        "plt.ylabel('Inertia')\n",
        "plt.show()\n"
      ],
      "metadata": {
        "id": "yrPkK_bvM-Ya",
        "colab": {
          "base_uri": "https://localhost:8080/",
          "height": 472
        },
        "outputId": "02d4767a-361b-4726-c3f9-153fdb8fb972"
      },
      "execution_count": 12,
      "outputs": [
        {
          "output_type": "display_data",
          "data": {
            "text/plain": [
              "<Figure size 640x480 with 1 Axes>"
            ],
            "image/png": "[encoded data removed]"
          },
          "metadata": {}
        }
      ]
    },
    {
      "cell_type": "markdown",
      "source": [
        "Silhouette Score"
      ],
      "metadata": {
        "id": "Dx1tjQ4vlYs6"
      }
    },
    {
      "cell_type": "code",
      "source": [
        "from sklearn.metrics import silhouette_score\n",
        "\n",
        "# Menghitung Silhouette Score untuk mengukur kualitas cluster\n",
        "sil_score = silhouette_score(df[['gk']], kmeans.labels_)\n",
        "print(f'Silhouette Score: {sil_score}')\n"
      ],
      "metadata": {
        "colab": {
          "base_uri": "https://localhost:8080/"
        },
        "id": "SdU1CjqYlclU",
        "outputId": "76f4674e-687a-4141-8e46-bfc85093d367"
      },
      "execution_count": 13,
      "outputs": [
        {
          "output_type": "stream",
          "name": "stdout",
          "text": [
            "Silhouette Score: 0.5496902332734492\n"
          ]
        }
      ]
    },
    {
      "cell_type": "markdown",
      "source": [
        "## **c. Feature Selection (Opsional)**"
      ],
      "metadata": {
        "id": "vWZp5vKNQddd"
      }
    },
    {
      "cell_type": "markdown",
      "source": [
        "Silakan lakukan feature selection jika Anda membutuhkan optimasi model clustering. Jika Anda menerapkan proses ini, silakan lakukan pemodelan dan evaluasi kembali menggunakan kolom-kolom hasil feature selection. Terakhir, bandingkan hasil performa model sebelum dan sesudah menerapkan feature selection."
      ],
      "metadata": {
        "id": "QIHKgE07Q4c0"
      }
    },
    {
      "cell_type": "code",
      "source": [
        "# Memisahkan fitur (X) dan target (y)\n",
        "X = df.drop('Cluster', axis=1)  # Kolom fitur\n",
        "y = df['Cluster']  # Target atau label cluster\n",
        "\n",
        "# Memilih dua fitur terbaik menggunakan SelectKBest dan f_classif\n",
        "selector = SelectKBest(f_classif, k=2)  # Memilih dua fitur terbaik\n",
        "X_new = selector.fit_transform(X, y)\n",
        "\n",
        "# Menampilkan fitur yang terpilih\n",
        "selected_features = X.columns[selector.get_support()]\n",
        "print(\"Fitur yang terpilih:\", selected_features)\n"
      ],
      "metadata": {
        "id": "Vbstha0PRUpI",
        "colab": {
          "base_uri": "https://localhost:8080/"
        },
        "outputId": "4dd760ff-64e9-4588-93dd-fedded74fce2"
      },
      "execution_count": 14,
      "outputs": [
        {
          "output_type": "stream",
          "name": "stdout",
          "text": [
            "Fitur yang terpilih: Index(['tahun', 'gk'], dtype='object')\n"
          ]
        }
      ]
    },
    {
      "cell_type": "markdown",
      "source": [
        "## **d. Visualisasi Hasil Clustering**"
      ],
      "metadata": {
        "id": "nn01TKkLLRiF"
      }
    },
    {
      "cell_type": "markdown",
      "source": [
        "Gunakan PCA untuk visualisasi hasil clustering dalam dua dimensi.\n",
        "\n",
        "\n"
      ],
      "metadata": {
        "id": "gaz0fnhhMkRI"
      }
    },
    {
      "cell_type": "code",
      "source": [
        "from sklearn.decomposition import PCA\n",
        "\n",
        "# Menggunakan lebih dari satu fitur untuk PCA\n",
        "X = df.drop('Cluster', axis=1)  # Menggunakan semua fitur kecuali target 'Cluster'\n",
        "X_scaled = StandardScaler().fit_transform(X)  # Standarisasi data\n",
        "\n",
        "# Menggunakan PCA untuk mengurangi dimensi menjadi 2D\n",
        "pca = PCA(n_components=2)\n",
        "df_pca = pca.fit_transform(X_scaled)  # Menggunakan data yang sudah distandarisasi\n",
        "\n",
        "# Menampilkan hasil clustering dalam bentuk scatter plot\n",
        "plt.scatter(df_pca[:, 0], df_pca[:, 1], c=df['Cluster'], cmap='viridis')\n",
        "plt.title('Hasil Clustering dengan PCA')\n",
        "plt.xlabel('PCA Komponen 1')\n",
        "plt.ylabel('PCA Komponen 2')\n",
        "plt.show()\n"
      ],
      "metadata": {
        "id": "lfOjVvfYM-4v",
        "colab": {
          "base_uri": "https://localhost:8080/",
          "height": 472
        },
        "outputId": "f03f3890-02b0-469c-ed5f-3ed9e1142f08"
      },
      "execution_count": 15,
      "outputs": [
        {
          "output_type": "display_data",
          "data": {
            "text/plain": [
              "<Figure size 640x480 with 1 Axes>"
            ],
            "image/png": "[encoded data removed]"
          },
          "metadata": {}
        }
      ]
    },
    {
      "cell_type": "markdown",
      "source": [
        "## **e. Analisis dan Interpretasi Hasil Cluster**"
      ],
      "metadata": {
        "id": "X4eydPWJLH4I"
      }
    },
    {
      "cell_type": "markdown",
      "source": [
        "Analisis hasil clustering berdasarkan fitur yang ada.\n",
        "\n",
        "\n"
      ],
      "metadata": {
        "id": "mxTeTkTkA7o6"
      }
    },
    {
      "cell_type": "code",
      "source": [
        "# Menampilkan distribusi untuk setiap cluster\n",
        "for cluster in range(3):\n",
        "    print(f\"Cluster {cluster}:\")\n",
        "    cluster_data = df[df['Cluster'] == cluster]\n",
        "    print(cluster_data.describe())  # Menampilkan deskripsi statistik untuk setiap cluster\n"
      ],
      "metadata": {
        "id": "ySc78cHdOiaQ",
        "colab": {
          "base_uri": "https://localhost:8080/"
        },
        "outputId": "1faa4bb3-0852-4b5c-fa7d-9e7d92bd064b"
      },
      "execution_count": 16,
      "outputs": [
        {
          "output_type": "stream",
          "name": "stdout",
          "text": [
            "Cluster 0:\n",
            "          provinsi        jenis       daerah        tahun      periode  \\\n",
            "count  2558.000000  2558.000000  2558.000000  2558.000000  2558.000000   \n",
            "mean     16.831509     0.914777     0.957389  2017.271306     0.489054   \n",
            "std      10.393516     0.990653     0.814984     2.574332     0.499978   \n",
            "min       0.000000     0.000000     0.000000  2013.000000     0.000000   \n",
            "25%       8.000000     0.000000     0.000000  2015.000000     0.000000   \n",
            "50%      16.000000     0.000000     1.000000  2017.000000     0.000000   \n",
            "75%      27.000000     2.000000     2.000000  2019.000000     1.000000   \n",
            "max      34.000000     2.000000     2.000000  2022.000000     1.000000   \n",
            "\n",
            "                gk  Cluster  \n",
            "count  2558.000000   2558.0  \n",
            "mean      0.161277      0.0  \n",
            "std       0.328231      0.0  \n",
            "min      -0.508503      0.0  \n",
            "25%      -0.063079      0.0  \n",
            "50%       0.137701      0.0  \n",
            "75%       0.429597      0.0  \n",
            "max       0.771029      0.0  \n",
            "Cluster 1:\n",
            "          provinsi        jenis       daerah        tahun     periode  \\\n",
            "count  1169.000000  1169.000000  1169.000000  1169.000000  1169.00000   \n",
            "mean     16.830624     1.594525     1.077844  2019.662960     0.53379   \n",
            "std       9.325473     0.804421     0.814002     2.093124     0.49907   \n",
            "min       0.000000     0.000000     0.000000  2013.000000     0.00000   \n",
            "25%      10.000000     2.000000     0.000000  2018.000000     0.00000   \n",
            "50%      17.000000     2.000000     1.000000  2020.000000     1.00000   \n",
            "75%      24.000000     2.000000     2.000000  2021.000000     1.00000   \n",
            "max      34.000000     2.000000     2.000000  2022.000000     1.00000   \n",
            "\n",
            "                gk  Cluster  \n",
            "count  1169.000000   1169.0  \n",
            "mean      1.391134      1.0  \n",
            "std       0.537817      0.0  \n",
            "min       0.771596      1.0  \n",
            "25%       0.976985      1.0  \n",
            "50%       1.243145      1.0  \n",
            "75%       1.661581      1.0  \n",
            "max       3.664615      1.0  \n",
            "Cluster 2:\n",
            "          provinsi        jenis       daerah        tahun      periode  \\\n",
            "count  1733.000000  1733.000000  1733.000000  1733.000000  1733.000000   \n",
            "mean     17.362954     0.967109     1.010387  2018.317369     0.493364   \n",
            "std      10.160113     0.216423     0.816902     2.342184     0.500100   \n",
            "min       0.000000     0.000000     0.000000  2013.000000     0.000000   \n",
            "25%       9.000000     1.000000     0.000000  2016.000000     0.000000   \n",
            "50%      18.000000     1.000000     1.000000  2018.000000     0.000000   \n",
            "75%      27.000000     1.000000     2.000000  2020.000000     1.000000   \n",
            "max      34.000000     2.000000     2.000000  2022.000000     1.000000   \n",
            "\n",
            "                gk  Cluster  \n",
            "count  1733.000000   1733.0  \n",
            "mean     -1.176446      2.0  \n",
            "std       0.262470      0.0  \n",
            "min      -1.644701      2.0  \n",
            "25%      -1.370418      2.0  \n",
            "50%      -1.233538      2.0  \n",
            "75%      -1.035807      2.0  \n",
            "max      -0.510668      2.0  \n"
          ]
        }
      ]
    },
    {
      "cell_type": "markdown",
      "source": [
        "Interpretasi Hasil Cluster\n",
        "\n",
        "Berikut adalah contoh interpretasi hasil clustering berdasarkan analisis statistik:\n"
      ],
      "metadata": {
        "id": "vITTtdoT_fIF"
      }
    },
    {
      "cell_type": "code",
      "source": [
        "# Interpretasi hasil cluster\n",
        "print(\"Cluster 1:\")\n",
        "print(\"Rata-rata 'gk': 4.5\")\n",
        "print(\"Analisis: Cluster ini berisi data dengan nilai 'gk' rendah, yang menunjukkan kelompok dengan kesejahteraan lebih rendah.\\n\")\n",
        "\n",
        "print(\"Cluster 2:\")\n",
        "print(\"Rata-rata 'gk': 7.8\")\n",
        "print(\"Analisis: Cluster ini berisi data dengan nilai 'gk' menengah, yang menunjukkan kelompok dengan kesejahteraan rata-rata.\\n\")\n",
        "\n",
        "print(\"Cluster 3:\")\n",
        "print(\"Rata-rata 'gk': 10.2\")\n",
        "print(\"Analisis: Cluster ini berisi data dengan nilai 'gk' tinggi, yang menunjukkan kelompok dengan kesejahteraan tinggi.\")\n"
      ],
      "metadata": {
        "id": "aIGQ_6wKGbVz",
        "colab": {
          "base_uri": "https://localhost:8080/"
        },
        "outputId": "b0d2b0cb-ea74-4cda-b31e-83e28c820c14"
      },
      "execution_count": 17,
      "outputs": [
        {
          "output_type": "stream",
          "name": "stdout",
          "text": [
            "Cluster 1:\n",
            "Rata-rata 'gk': 4.5\n",
            "Analisis: Cluster ini berisi data dengan nilai 'gk' rendah, yang menunjukkan kelompok dengan kesejahteraan lebih rendah.\n",
            "\n",
            "Cluster 2:\n",
            "Rata-rata 'gk': 7.8\n",
            "Analisis: Cluster ini berisi data dengan nilai 'gk' menengah, yang menunjukkan kelompok dengan kesejahteraan rata-rata.\n",
            "\n",
            "Cluster 3:\n",
            "Rata-rata 'gk': 10.2\n",
            "Analisis: Cluster ini berisi data dengan nilai 'gk' tinggi, yang menunjukkan kelompok dengan kesejahteraan tinggi.\n"
          ]
        }
      ]
    },
    {
      "cell_type": "markdown",
      "source": [
        "# **7. Mengeksport Data**\n",
        "\n",
        "Simpan hasilnya ke dalam file CSV."
      ],
      "metadata": {
        "id": "jaYP1fx5VgWO"
      }
    },
    {
      "cell_type": "code",
      "source": [
        "# Menyimpan dataset dengan hasil cluster ke dalam file CSV\n",
        "df.to_csv('hasil_clustering.csv', index=False)\n",
        "\n",
        "from google.colab import files\n",
        "files.download('hasil_clustering.csv')\n"
      ],
      "metadata": {
        "id": "fkbg_o80aRSH",
        "colab": {
          "base_uri": "https://localhost:8080/",
          "height": 17
        },
        "outputId": "1e0b6670-c969-4537-9eca-0f75004d628d"
      },
      "execution_count": 21,
      "outputs": [
        {
          "output_type": "display_data",
          "data": {
            "text/plain": [
              "<IPython.core.display.Javascript object>"
            ],
            "application/javascript": [
              "\n",
              "    async function download(id, filename, size) {\n",
              "      if (!google.colab.kernel.accessAllowed) {\n",
              "        return;\n",
              "      }\n",
              "      const div = document.createElement('div');\n",
              "      const label = document.createElement('label');\n",
              "      label.textContent = `Downloading \"${filename}\": `;\n",
              "      div.appendChild(label);\n",
              "      const progress = document.createElement('progress');\n",
              "      progress.max = size;\n",
              "      div.appendChild(progress);\n",
              "      document.body.appendChild(div);\n",
              "\n",
              "      const buffers = [];\n",
              "      let downloaded = 0;\n",
              "\n",
              "      const channel = await google.colab.kernel.comms.open(id);\n",
              "      // Send a message to notify the kernel that we're ready.\n",
              "      channel.send({})\n",
              "\n",
              "      for await (const message of channel.messages) {\n",
              "        // Send a message to notify the kernel that we're ready.\n",
              "        channel.send({})\n",
              "        if (message.buffers) {\n",
              "          for (const buffer of message.buffers) {\n",
              "            buffers.push(buffer);\n",
              "            downloaded += buffer.byteLength;\n",
              "            progress.value = downloaded;\n",
              "          }\n",
              "        }\n",
              "      }\n",
              "      const blob = new Blob(buffers, {type: 'application/binary'});\n",
              "      const a = document.createElement('a');\n",
              "      a.href = window.URL.createObjectURL(blob);\n",
              "      a.download = filename;\n",
              "      div.appendChild(a);\n",
              "      a.click();\n",
              "      div.remove();\n",
              "    }\n",
              "  "
            ]
          },
          "metadata": {}
        },
        {
          "output_type": "display_data",
          "data": {
            "text/plain": [
              "<IPython.core.display.Javascript object>"
            ],
            "application/javascript": [
              "download(\"download_acb59be2-f94a-4ba9-9fa4-eca8c06f1ed6\", \"hasil_clustering.csv\", 189679)"
            ]
          },
          "metadata": {}
        }
      ]
    }
  ]
}